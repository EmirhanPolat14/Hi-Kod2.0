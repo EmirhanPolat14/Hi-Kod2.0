{
 "cells": [
  {
   "cell_type": "code",
   "execution_count": 19,
   "metadata": {},
   "outputs": [],
   "source": [
    "import pandas as pd"
   ]
  },
  {
   "cell_type": "code",
   "execution_count": 20,
   "metadata": {},
   "outputs": [],
   "source": [
    "books = pd.read_csv(\"Books_df.csv\")"
   ]
  },
  {
   "cell_type": "code",
   "execution_count": 21,
   "metadata": {},
   "outputs": [
    {
     "data": {
      "text/html": [
       "<div>\n",
       "<style scoped>\n",
       "    .dataframe tbody tr th:only-of-type {\n",
       "        vertical-align: middle;\n",
       "    }\n",
       "\n",
       "    .dataframe tbody tr th {\n",
       "        vertical-align: top;\n",
       "    }\n",
       "\n",
       "    .dataframe thead th {\n",
       "        text-align: right;\n",
       "    }\n",
       "</style>\n",
       "<table border=\"1\" class=\"dataframe\">\n",
       "  <thead>\n",
       "    <tr style=\"text-align: right;\">\n",
       "      <th></th>\n",
       "      <th>Unnamed: 0</th>\n",
       "      <th>Title</th>\n",
       "      <th>Author</th>\n",
       "      <th>Main Genre</th>\n",
       "      <th>Sub Genre</th>\n",
       "      <th>Type</th>\n",
       "      <th>Price</th>\n",
       "      <th>Rating</th>\n",
       "      <th>No. of People rated</th>\n",
       "      <th>URLs</th>\n",
       "    </tr>\n",
       "  </thead>\n",
       "  <tbody>\n",
       "    <tr>\n",
       "      <th>0</th>\n",
       "      <td>0</td>\n",
       "      <td>The Complete Novel of Sherlock Holmes</td>\n",
       "      <td>Arthur Conan Doyle</td>\n",
       "      <td>Arts, Film &amp; Photography</td>\n",
       "      <td>Cinema &amp; Broadcast</td>\n",
       "      <td>Paperback</td>\n",
       "      <td>₹169.00</td>\n",
       "      <td>4.4</td>\n",
       "      <td>19923.0</td>\n",
       "      <td>https://www.amazon.in/Complete-Novels-Sherlock...</td>\n",
       "    </tr>\n",
       "    <tr>\n",
       "      <th>1</th>\n",
       "      <td>1</td>\n",
       "      <td>Black Holes (L) : The Reith Lectures [Paperbac...</td>\n",
       "      <td>Stephen Hawking</td>\n",
       "      <td>Arts, Film &amp; Photography</td>\n",
       "      <td>Cinema &amp; Broadcast</td>\n",
       "      <td>Paperback</td>\n",
       "      <td>₹99.00</td>\n",
       "      <td>4.5</td>\n",
       "      <td>7686.0</td>\n",
       "      <td>https://www.amazon.in/Black-Holes-Lectures-Ste...</td>\n",
       "    </tr>\n",
       "    <tr>\n",
       "      <th>2</th>\n",
       "      <td>2</td>\n",
       "      <td>The Kite Runner</td>\n",
       "      <td>Khaled Hosseini</td>\n",
       "      <td>Arts, Film &amp; Photography</td>\n",
       "      <td>Cinema &amp; Broadcast</td>\n",
       "      <td>Kindle Edition</td>\n",
       "      <td>₹175.75</td>\n",
       "      <td>4.6</td>\n",
       "      <td>50016.0</td>\n",
       "      <td>https://www.amazon.in/Kite-Runner-Khaled-Hosse...</td>\n",
       "    </tr>\n",
       "    <tr>\n",
       "      <th>3</th>\n",
       "      <td>3</td>\n",
       "      <td>Greenlights: Raucous stories and outlaw wisdom...</td>\n",
       "      <td>Matthew McConaughey</td>\n",
       "      <td>Arts, Film &amp; Photography</td>\n",
       "      <td>Cinema &amp; Broadcast</td>\n",
       "      <td>Paperback</td>\n",
       "      <td>₹389.00</td>\n",
       "      <td>4.6</td>\n",
       "      <td>32040.0</td>\n",
       "      <td>https://www.amazon.in/Greenlights-Raucous-stor...</td>\n",
       "    </tr>\n",
       "    <tr>\n",
       "      <th>4</th>\n",
       "      <td>4</td>\n",
       "      <td>The Science of Storytelling: Why Stories Make ...</td>\n",
       "      <td>Will Storr</td>\n",
       "      <td>Arts, Film &amp; Photography</td>\n",
       "      <td>Cinema &amp; Broadcast</td>\n",
       "      <td>Paperback</td>\n",
       "      <td>₹348.16</td>\n",
       "      <td>4.5</td>\n",
       "      <td>1707.0</td>\n",
       "      <td>https://www.amazon.in/Science-Storytelling-Wil...</td>\n",
       "    </tr>\n",
       "    <tr>\n",
       "      <th>5</th>\n",
       "      <td>5</td>\n",
       "      <td>Fantastic Beasts and Where to Find Them: The O...</td>\n",
       "      <td>J.K. Rowling</td>\n",
       "      <td>Arts, Film &amp; Photography</td>\n",
       "      <td>Cinema &amp; Broadcast</td>\n",
       "      <td>Kindle Edition</td>\n",
       "      <td>₹313.95</td>\n",
       "      <td>4.5</td>\n",
       "      <td>15122.0</td>\n",
       "      <td>https://www.amazon.in/Fantastic-Beasts-Where-F...</td>\n",
       "    </tr>\n",
       "    <tr>\n",
       "      <th>6</th>\n",
       "      <td>6</td>\n",
       "      <td>Fantastic Beasts: The Crimes of Grindelwald - ...</td>\n",
       "      <td>J.K. Rowling</td>\n",
       "      <td>Arts, Film &amp; Photography</td>\n",
       "      <td>Cinema &amp; Broadcast</td>\n",
       "      <td>Kindle Edition</td>\n",
       "      <td>₹313.95</td>\n",
       "      <td>4.6</td>\n",
       "      <td>10152.0</td>\n",
       "      <td>https://www.amazon.in/Fantastic-Beasts-Grindel...</td>\n",
       "    </tr>\n",
       "    <tr>\n",
       "      <th>7</th>\n",
       "      <td>7</td>\n",
       "      <td>Desperately Seeking Shah Rukh : India's Lonely...</td>\n",
       "      <td>Shrayana Bhattacharya</td>\n",
       "      <td>Arts, Film &amp; Photography</td>\n",
       "      <td>Cinema &amp; Broadcast</td>\n",
       "      <td>Paperback</td>\n",
       "      <td>₹348.16</td>\n",
       "      <td>4.5</td>\n",
       "      <td>539.0</td>\n",
       "      <td>https://www.amazon.in/Desperately-Seeking-Shah...</td>\n",
       "    </tr>\n",
       "    <tr>\n",
       "      <th>8</th>\n",
       "      <td>8</td>\n",
       "      <td>Save the Cat!: The Last Book on Screenwriting ...</td>\n",
       "      <td>Blake Snyder</td>\n",
       "      <td>Arts, Film &amp; Photography</td>\n",
       "      <td>Cinema &amp; Broadcast</td>\n",
       "      <td>Paperback</td>\n",
       "      <td>₹850.00</td>\n",
       "      <td>4.5</td>\n",
       "      <td>7060.0</td>\n",
       "      <td>https://www.amazon.in/Save-Cat-Last-Screenwrit...</td>\n",
       "    </tr>\n",
       "    <tr>\n",
       "      <th>9</th>\n",
       "      <td>9</td>\n",
       "      <td>Screenplay</td>\n",
       "      <td>Syd Field</td>\n",
       "      <td>Arts, Film &amp; Photography</td>\n",
       "      <td>Cinema &amp; Broadcast</td>\n",
       "      <td>Paperback</td>\n",
       "      <td>₹644.52</td>\n",
       "      <td>4.5</td>\n",
       "      <td>3216.0</td>\n",
       "      <td>https://www.amazon.in/Screenplay-Foundations-S...</td>\n",
       "    </tr>\n",
       "  </tbody>\n",
       "</table>\n",
       "</div>"
      ],
      "text/plain": [
       "   Unnamed: 0                                              Title  \\\n",
       "0           0              The Complete Novel of Sherlock Holmes   \n",
       "1           1  Black Holes (L) : The Reith Lectures [Paperbac...   \n",
       "2           2                                    The Kite Runner   \n",
       "3           3  Greenlights: Raucous stories and outlaw wisdom...   \n",
       "4           4  The Science of Storytelling: Why Stories Make ...   \n",
       "5           5  Fantastic Beasts and Where to Find Them: The O...   \n",
       "6           6  Fantastic Beasts: The Crimes of Grindelwald - ...   \n",
       "7           7  Desperately Seeking Shah Rukh : India's Lonely...   \n",
       "8           8  Save the Cat!: The Last Book on Screenwriting ...   \n",
       "9           9                                         Screenplay   \n",
       "\n",
       "                  Author                Main Genre           Sub Genre  \\\n",
       "0     Arthur Conan Doyle  Arts, Film & Photography  Cinema & Broadcast   \n",
       "1        Stephen Hawking  Arts, Film & Photography  Cinema & Broadcast   \n",
       "2        Khaled Hosseini  Arts, Film & Photography  Cinema & Broadcast   \n",
       "3    Matthew McConaughey  Arts, Film & Photography  Cinema & Broadcast   \n",
       "4             Will Storr  Arts, Film & Photography  Cinema & Broadcast   \n",
       "5           J.K. Rowling  Arts, Film & Photography  Cinema & Broadcast   \n",
       "6           J.K. Rowling  Arts, Film & Photography  Cinema & Broadcast   \n",
       "7  Shrayana Bhattacharya  Arts, Film & Photography  Cinema & Broadcast   \n",
       "8           Blake Snyder  Arts, Film & Photography  Cinema & Broadcast   \n",
       "9              Syd Field  Arts, Film & Photography  Cinema & Broadcast   \n",
       "\n",
       "             Type    Price  Rating  No. of People rated  \\\n",
       "0       Paperback  ₹169.00     4.4              19923.0   \n",
       "1       Paperback   ₹99.00     4.5               7686.0   \n",
       "2  Kindle Edition  ₹175.75     4.6              50016.0   \n",
       "3       Paperback  ₹389.00     4.6              32040.0   \n",
       "4       Paperback  ₹348.16     4.5               1707.0   \n",
       "5  Kindle Edition  ₹313.95     4.5              15122.0   \n",
       "6  Kindle Edition  ₹313.95     4.6              10152.0   \n",
       "7       Paperback  ₹348.16     4.5                539.0   \n",
       "8       Paperback  ₹850.00     4.5               7060.0   \n",
       "9       Paperback  ₹644.52     4.5               3216.0   \n",
       "\n",
       "                                                URLs  \n",
       "0  https://www.amazon.in/Complete-Novels-Sherlock...  \n",
       "1  https://www.amazon.in/Black-Holes-Lectures-Ste...  \n",
       "2  https://www.amazon.in/Kite-Runner-Khaled-Hosse...  \n",
       "3  https://www.amazon.in/Greenlights-Raucous-stor...  \n",
       "4  https://www.amazon.in/Science-Storytelling-Wil...  \n",
       "5  https://www.amazon.in/Fantastic-Beasts-Where-F...  \n",
       "6  https://www.amazon.in/Fantastic-Beasts-Grindel...  \n",
       "7  https://www.amazon.in/Desperately-Seeking-Shah...  \n",
       "8  https://www.amazon.in/Save-Cat-Last-Screenwrit...  \n",
       "9  https://www.amazon.in/Screenplay-Foundations-S...  "
      ]
     },
     "execution_count": 21,
     "metadata": {},
     "output_type": "execute_result"
    }
   ],
   "source": [
    "books.head(10)"
   ]
  },
  {
   "cell_type": "code",
   "execution_count": 22,
   "metadata": {},
   "outputs": [
    {
     "name": "stdout",
     "output_type": "stream",
     "text": [
      "<class 'pandas.core.frame.DataFrame'>\n",
      "RangeIndex: 7928 entries, 0 to 7927\n",
      "Data columns (total 10 columns):\n",
      " #   Column               Non-Null Count  Dtype  \n",
      "---  ------               --------------  -----  \n",
      " 0   Unnamed: 0           7928 non-null   int64  \n",
      " 1   Title                7928 non-null   object \n",
      " 2   Author               7907 non-null   object \n",
      " 3   Main Genre           7928 non-null   object \n",
      " 4   Sub Genre            7928 non-null   object \n",
      " 5   Type                 7928 non-null   object \n",
      " 6   Price                7928 non-null   object \n",
      " 7   Rating               7928 non-null   float64\n",
      " 8   No. of People rated  7928 non-null   float64\n",
      " 9   URLs                 7928 non-null   object \n",
      "dtypes: float64(2), int64(1), object(7)\n",
      "memory usage: 619.5+ KB\n"
     ]
    }
   ],
   "source": [
    "books.info()"
   ]
  },
  {
   "cell_type": "code",
   "execution_count": 23,
   "metadata": {},
   "outputs": [
    {
     "data": {
      "text/html": [
       "<div>\n",
       "<style scoped>\n",
       "    .dataframe tbody tr th:only-of-type {\n",
       "        vertical-align: middle;\n",
       "    }\n",
       "\n",
       "    .dataframe tbody tr th {\n",
       "        vertical-align: top;\n",
       "    }\n",
       "\n",
       "    .dataframe thead th {\n",
       "        text-align: right;\n",
       "    }\n",
       "</style>\n",
       "<table border=\"1\" class=\"dataframe\">\n",
       "  <thead>\n",
       "    <tr style=\"text-align: right;\">\n",
       "      <th></th>\n",
       "      <th>Title</th>\n",
       "      <th>Author</th>\n",
       "      <th>Main Genre</th>\n",
       "      <th>Sub Genre</th>\n",
       "      <th>Type</th>\n",
       "      <th>Price</th>\n",
       "      <th>Rating</th>\n",
       "      <th>No. of People rated</th>\n",
       "      <th>URLs</th>\n",
       "    </tr>\n",
       "  </thead>\n",
       "  <tbody>\n",
       "    <tr>\n",
       "      <th>0</th>\n",
       "      <td>The Complete Novel of Sherlock Holmes</td>\n",
       "      <td>Arthur Conan Doyle</td>\n",
       "      <td>Arts, Film &amp; Photography</td>\n",
       "      <td>Cinema &amp; Broadcast</td>\n",
       "      <td>Paperback</td>\n",
       "      <td>₹169.00</td>\n",
       "      <td>4.4</td>\n",
       "      <td>19923.0</td>\n",
       "      <td>https://www.amazon.in/Complete-Novels-Sherlock...</td>\n",
       "    </tr>\n",
       "    <tr>\n",
       "      <th>1</th>\n",
       "      <td>Black Holes (L) : The Reith Lectures [Paperbac...</td>\n",
       "      <td>Stephen Hawking</td>\n",
       "      <td>Arts, Film &amp; Photography</td>\n",
       "      <td>Cinema &amp; Broadcast</td>\n",
       "      <td>Paperback</td>\n",
       "      <td>₹99.00</td>\n",
       "      <td>4.5</td>\n",
       "      <td>7686.0</td>\n",
       "      <td>https://www.amazon.in/Black-Holes-Lectures-Ste...</td>\n",
       "    </tr>\n",
       "    <tr>\n",
       "      <th>2</th>\n",
       "      <td>The Kite Runner</td>\n",
       "      <td>Khaled Hosseini</td>\n",
       "      <td>Arts, Film &amp; Photography</td>\n",
       "      <td>Cinema &amp; Broadcast</td>\n",
       "      <td>Kindle Edition</td>\n",
       "      <td>₹175.75</td>\n",
       "      <td>4.6</td>\n",
       "      <td>50016.0</td>\n",
       "      <td>https://www.amazon.in/Kite-Runner-Khaled-Hosse...</td>\n",
       "    </tr>\n",
       "    <tr>\n",
       "      <th>3</th>\n",
       "      <td>Greenlights: Raucous stories and outlaw wisdom...</td>\n",
       "      <td>Matthew McConaughey</td>\n",
       "      <td>Arts, Film &amp; Photography</td>\n",
       "      <td>Cinema &amp; Broadcast</td>\n",
       "      <td>Paperback</td>\n",
       "      <td>₹389.00</td>\n",
       "      <td>4.6</td>\n",
       "      <td>32040.0</td>\n",
       "      <td>https://www.amazon.in/Greenlights-Raucous-stor...</td>\n",
       "    </tr>\n",
       "    <tr>\n",
       "      <th>4</th>\n",
       "      <td>The Science of Storytelling: Why Stories Make ...</td>\n",
       "      <td>Will Storr</td>\n",
       "      <td>Arts, Film &amp; Photography</td>\n",
       "      <td>Cinema &amp; Broadcast</td>\n",
       "      <td>Paperback</td>\n",
       "      <td>₹348.16</td>\n",
       "      <td>4.5</td>\n",
       "      <td>1707.0</td>\n",
       "      <td>https://www.amazon.in/Science-Storytelling-Wil...</td>\n",
       "    </tr>\n",
       "    <tr>\n",
       "      <th>...</th>\n",
       "      <td>...</td>\n",
       "      <td>...</td>\n",
       "      <td>...</td>\n",
       "      <td>...</td>\n",
       "      <td>...</td>\n",
       "      <td>...</td>\n",
       "      <td>...</td>\n",
       "      <td>...</td>\n",
       "      <td>...</td>\n",
       "    </tr>\n",
       "    <tr>\n",
       "      <th>7923</th>\n",
       "      <td>Insight Guides Poland (Travel Guide with Free ...</td>\n",
       "      <td>Insight Travel Guide</td>\n",
       "      <td>Travel</td>\n",
       "      <td>Travel &amp; Holiday Guides</td>\n",
       "      <td>Paperback</td>\n",
       "      <td>₹1,326.00</td>\n",
       "      <td>4.7</td>\n",
       "      <td>16.0</td>\n",
       "      <td>https://www.amazon.in/Insight-Guides-Poland-Tr...</td>\n",
       "    </tr>\n",
       "    <tr>\n",
       "      <th>7924</th>\n",
       "      <td>Lonely Planet India 19 (Travel Guide)</td>\n",
       "      <td>Anirban Mahapatra</td>\n",
       "      <td>Travel</td>\n",
       "      <td>Travel &amp; Holiday Guides</td>\n",
       "      <td>Paperback</td>\n",
       "      <td>₹850.00</td>\n",
       "      <td>4.4</td>\n",
       "      <td>187.0</td>\n",
       "      <td>https://www.amazon.in/Lonely-Planet-India-Trav...</td>\n",
       "    </tr>\n",
       "    <tr>\n",
       "      <th>7925</th>\n",
       "      <td>Eyewitness Travel Phrase Book French (EW Trave...</td>\n",
       "      <td>DK</td>\n",
       "      <td>Travel</td>\n",
       "      <td>Travel &amp; Holiday Guides</td>\n",
       "      <td>Paperback</td>\n",
       "      <td>₹307.00</td>\n",
       "      <td>4.5</td>\n",
       "      <td>168.0</td>\n",
       "      <td>https://www.amazon.in/Eyewitness-Travel-Phrase...</td>\n",
       "    </tr>\n",
       "    <tr>\n",
       "      <th>7926</th>\n",
       "      <td>Lonely Planet Australia (Travel Guide)</td>\n",
       "      <td>Andrew Bain</td>\n",
       "      <td>Travel</td>\n",
       "      <td>Travel &amp; Holiday Guides</td>\n",
       "      <td>Kindle Edition</td>\n",
       "      <td>₹1,814.50</td>\n",
       "      <td>4.7</td>\n",
       "      <td>267.0</td>\n",
       "      <td>https://www.amazon.in/Lonely-Planet-Australia-...</td>\n",
       "    </tr>\n",
       "    <tr>\n",
       "      <th>7927</th>\n",
       "      <td>Political Map of India Latest Map of India Wit...</td>\n",
       "      <td>Wonder House Books</td>\n",
       "      <td>Travel</td>\n",
       "      <td>Travel &amp; Holiday Guides</td>\n",
       "      <td>Poster</td>\n",
       "      <td>₹99.00</td>\n",
       "      <td>3.9</td>\n",
       "      <td>48.0</td>\n",
       "      <td>https://www.amazon.in/Political-Map-India-Terr...</td>\n",
       "    </tr>\n",
       "  </tbody>\n",
       "</table>\n",
       "<p>7928 rows × 9 columns</p>\n",
       "</div>"
      ],
      "text/plain": [
       "                                                  Title                Author  \\\n",
       "0                 The Complete Novel of Sherlock Holmes    Arthur Conan Doyle   \n",
       "1     Black Holes (L) : The Reith Lectures [Paperbac...       Stephen Hawking   \n",
       "2                                       The Kite Runner       Khaled Hosseini   \n",
       "3     Greenlights: Raucous stories and outlaw wisdom...   Matthew McConaughey   \n",
       "4     The Science of Storytelling: Why Stories Make ...            Will Storr   \n",
       "...                                                 ...                   ...   \n",
       "7923  Insight Guides Poland (Travel Guide with Free ...  Insight Travel Guide   \n",
       "7924              Lonely Planet India 19 (Travel Guide)     Anirban Mahapatra   \n",
       "7925  Eyewitness Travel Phrase Book French (EW Trave...                    DK   \n",
       "7926             Lonely Planet Australia (Travel Guide)           Andrew Bain   \n",
       "7927  Political Map of India Latest Map of India Wit...    Wonder House Books   \n",
       "\n",
       "                    Main Genre                Sub Genre            Type  \\\n",
       "0     Arts, Film & Photography       Cinema & Broadcast       Paperback   \n",
       "1     Arts, Film & Photography       Cinema & Broadcast       Paperback   \n",
       "2     Arts, Film & Photography       Cinema & Broadcast  Kindle Edition   \n",
       "3     Arts, Film & Photography       Cinema & Broadcast       Paperback   \n",
       "4     Arts, Film & Photography       Cinema & Broadcast       Paperback   \n",
       "...                        ...                      ...             ...   \n",
       "7923                    Travel  Travel & Holiday Guides       Paperback   \n",
       "7924                    Travel  Travel & Holiday Guides       Paperback   \n",
       "7925                    Travel  Travel & Holiday Guides       Paperback   \n",
       "7926                    Travel  Travel & Holiday Guides  Kindle Edition   \n",
       "7927                    Travel  Travel & Holiday Guides          Poster   \n",
       "\n",
       "          Price  Rating  No. of People rated  \\\n",
       "0       ₹169.00     4.4              19923.0   \n",
       "1        ₹99.00     4.5               7686.0   \n",
       "2       ₹175.75     4.6              50016.0   \n",
       "3       ₹389.00     4.6              32040.0   \n",
       "4       ₹348.16     4.5               1707.0   \n",
       "...         ...     ...                  ...   \n",
       "7923  ₹1,326.00     4.7                 16.0   \n",
       "7924    ₹850.00     4.4                187.0   \n",
       "7925    ₹307.00     4.5                168.0   \n",
       "7926  ₹1,814.50     4.7                267.0   \n",
       "7927     ₹99.00     3.9                 48.0   \n",
       "\n",
       "                                                   URLs  \n",
       "0     https://www.amazon.in/Complete-Novels-Sherlock...  \n",
       "1     https://www.amazon.in/Black-Holes-Lectures-Ste...  \n",
       "2     https://www.amazon.in/Kite-Runner-Khaled-Hosse...  \n",
       "3     https://www.amazon.in/Greenlights-Raucous-stor...  \n",
       "4     https://www.amazon.in/Science-Storytelling-Wil...  \n",
       "...                                                 ...  \n",
       "7923  https://www.amazon.in/Insight-Guides-Poland-Tr...  \n",
       "7924  https://www.amazon.in/Lonely-Planet-India-Trav...  \n",
       "7925  https://www.amazon.in/Eyewitness-Travel-Phrase...  \n",
       "7926  https://www.amazon.in/Lonely-Planet-Australia-...  \n",
       "7927  https://www.amazon.in/Political-Map-India-Terr...  \n",
       "\n",
       "[7928 rows x 9 columns]"
      ]
     },
     "execution_count": 23,
     "metadata": {},
     "output_type": "execute_result"
    }
   ],
   "source": [
    "df = books.drop(\"Unnamed: 0\", axis=1)\n",
    "df"
   ]
  },
  {
   "cell_type": "code",
   "execution_count": 24,
   "metadata": {},
   "outputs": [],
   "source": [
    "liste = []\n",
    "liste = df[\"Price\"]\n",
    "liste2 = []\n",
    "for i in liste:\n",
    "    if i.startswith(\"₹\"):\n",
    "        i = i[1:]\n",
    "        i = i.replace(\",\",\"\")\n",
    "        i = float(i)\n",
    "        liste2.append(i)\n",
    "\n",
    "\n",
    "\n"
   ]
  },
  {
   "cell_type": "code",
   "execution_count": 25,
   "metadata": {},
   "outputs": [],
   "source": [
    "new_data = df\n",
    "new_data[\"Price\"] = liste2"
   ]
  },
  {
   "cell_type": "code",
   "execution_count": 26,
   "metadata": {},
   "outputs": [
    {
     "data": {
      "text/html": [
       "<div>\n",
       "<style scoped>\n",
       "    .dataframe tbody tr th:only-of-type {\n",
       "        vertical-align: middle;\n",
       "    }\n",
       "\n",
       "    .dataframe tbody tr th {\n",
       "        vertical-align: top;\n",
       "    }\n",
       "\n",
       "    .dataframe thead th {\n",
       "        text-align: right;\n",
       "    }\n",
       "</style>\n",
       "<table border=\"1\" class=\"dataframe\">\n",
       "  <thead>\n",
       "    <tr style=\"text-align: right;\">\n",
       "      <th></th>\n",
       "      <th>Title</th>\n",
       "      <th>Author</th>\n",
       "      <th>Main Genre</th>\n",
       "      <th>Sub Genre</th>\n",
       "      <th>Type</th>\n",
       "      <th>Price</th>\n",
       "      <th>Rating</th>\n",
       "      <th>No. of People rated</th>\n",
       "      <th>URLs</th>\n",
       "    </tr>\n",
       "  </thead>\n",
       "  <tbody>\n",
       "    <tr>\n",
       "      <th>0</th>\n",
       "      <td>The Complete Novel of Sherlock Holmes</td>\n",
       "      <td>Arthur Conan Doyle</td>\n",
       "      <td>Arts, Film &amp; Photography</td>\n",
       "      <td>Cinema &amp; Broadcast</td>\n",
       "      <td>Paperback</td>\n",
       "      <td>169.00</td>\n",
       "      <td>4.4</td>\n",
       "      <td>19923.0</td>\n",
       "      <td>https://www.amazon.in/Complete-Novels-Sherlock...</td>\n",
       "    </tr>\n",
       "    <tr>\n",
       "      <th>1</th>\n",
       "      <td>Black Holes (L) : The Reith Lectures [Paperbac...</td>\n",
       "      <td>Stephen Hawking</td>\n",
       "      <td>Arts, Film &amp; Photography</td>\n",
       "      <td>Cinema &amp; Broadcast</td>\n",
       "      <td>Paperback</td>\n",
       "      <td>99.00</td>\n",
       "      <td>4.5</td>\n",
       "      <td>7686.0</td>\n",
       "      <td>https://www.amazon.in/Black-Holes-Lectures-Ste...</td>\n",
       "    </tr>\n",
       "    <tr>\n",
       "      <th>2</th>\n",
       "      <td>The Kite Runner</td>\n",
       "      <td>Khaled Hosseini</td>\n",
       "      <td>Arts, Film &amp; Photography</td>\n",
       "      <td>Cinema &amp; Broadcast</td>\n",
       "      <td>Kindle Edition</td>\n",
       "      <td>175.75</td>\n",
       "      <td>4.6</td>\n",
       "      <td>50016.0</td>\n",
       "      <td>https://www.amazon.in/Kite-Runner-Khaled-Hosse...</td>\n",
       "    </tr>\n",
       "    <tr>\n",
       "      <th>3</th>\n",
       "      <td>Greenlights: Raucous stories and outlaw wisdom...</td>\n",
       "      <td>Matthew McConaughey</td>\n",
       "      <td>Arts, Film &amp; Photography</td>\n",
       "      <td>Cinema &amp; Broadcast</td>\n",
       "      <td>Paperback</td>\n",
       "      <td>389.00</td>\n",
       "      <td>4.6</td>\n",
       "      <td>32040.0</td>\n",
       "      <td>https://www.amazon.in/Greenlights-Raucous-stor...</td>\n",
       "    </tr>\n",
       "    <tr>\n",
       "      <th>4</th>\n",
       "      <td>The Science of Storytelling: Why Stories Make ...</td>\n",
       "      <td>Will Storr</td>\n",
       "      <td>Arts, Film &amp; Photography</td>\n",
       "      <td>Cinema &amp; Broadcast</td>\n",
       "      <td>Paperback</td>\n",
       "      <td>348.16</td>\n",
       "      <td>4.5</td>\n",
       "      <td>1707.0</td>\n",
       "      <td>https://www.amazon.in/Science-Storytelling-Wil...</td>\n",
       "    </tr>\n",
       "  </tbody>\n",
       "</table>\n",
       "</div>"
      ],
      "text/plain": [
       "                                               Title               Author  \\\n",
       "0              The Complete Novel of Sherlock Holmes   Arthur Conan Doyle   \n",
       "1  Black Holes (L) : The Reith Lectures [Paperbac...      Stephen Hawking   \n",
       "2                                    The Kite Runner      Khaled Hosseini   \n",
       "3  Greenlights: Raucous stories and outlaw wisdom...  Matthew McConaughey   \n",
       "4  The Science of Storytelling: Why Stories Make ...           Will Storr   \n",
       "\n",
       "                 Main Genre           Sub Genre            Type   Price  \\\n",
       "0  Arts, Film & Photography  Cinema & Broadcast       Paperback  169.00   \n",
       "1  Arts, Film & Photography  Cinema & Broadcast       Paperback   99.00   \n",
       "2  Arts, Film & Photography  Cinema & Broadcast  Kindle Edition  175.75   \n",
       "3  Arts, Film & Photography  Cinema & Broadcast       Paperback  389.00   \n",
       "4  Arts, Film & Photography  Cinema & Broadcast       Paperback  348.16   \n",
       "\n",
       "   Rating  No. of People rated  \\\n",
       "0     4.4              19923.0   \n",
       "1     4.5               7686.0   \n",
       "2     4.6              50016.0   \n",
       "3     4.6              32040.0   \n",
       "4     4.5               1707.0   \n",
       "\n",
       "                                                URLs  \n",
       "0  https://www.amazon.in/Complete-Novels-Sherlock...  \n",
       "1  https://www.amazon.in/Black-Holes-Lectures-Ste...  \n",
       "2  https://www.amazon.in/Kite-Runner-Khaled-Hosse...  \n",
       "3  https://www.amazon.in/Greenlights-Raucous-stor...  \n",
       "4  https://www.amazon.in/Science-Storytelling-Wil...  "
      ]
     },
     "execution_count": 26,
     "metadata": {},
     "output_type": "execute_result"
    }
   ],
   "source": [
    "new_data.head()"
   ]
  },
  {
   "cell_type": "code",
   "execution_count": 27,
   "metadata": {},
   "outputs": [
    {
     "name": "stdout",
     "output_type": "stream",
     "text": [
      "['Arts, Film & Photography' 'Biographies, Diaries & True Accounts'\n",
      " 'Business & Economics' \"Children's Books\" 'Comics & Mangas'\n",
      " 'Computing, Internet & Digital Media' 'Crafts, Home & Lifestyle'\n",
      " 'Crime, Thriller & Mystery' 'Engineering' 'Exam Preparation'\n",
      " 'Fantasy, Horror & Science Fiction'\n",
      " 'Health, Family & Personal Development' 'Higher Education Textbooks'\n",
      " 'History' 'Language, Linguistics & Writing' 'Law' 'Literature & Fiction'\n",
      " 'Medicine & Health Sciences' 'Politics' 'Reference' 'Religion' 'Romance'\n",
      " 'School Books' 'Science & Mathematics' 'Sciences, Technology & Medicine'\n",
      " 'Society & Social Sciences' 'Sports' 'Teen & Young Adult'\n",
      " 'Textbooks & Study Guides' 'Travel']\n",
      "***************************************************************************\n",
      "['Cinema & Broadcast' 'Music' 'Theater & Ballet' 'Theory & Criticism'\n",
      " 'Biographies & Autobiographies' 'True Accounts' 'Analysis & Strategy'\n",
      " 'Economics' 'Industries' 'Animals & Pets' 'Cars, Trains & Things That Go'\n",
      " 'Comics & Graphic Novels' 'Computers & Technology'\n",
      " 'Crafts, Hobbies & Practical Interests' 'Crime & Thriller'\n",
      " 'Education & Reference' 'Fairy Tales, Folk Tales & Myths'\n",
      " 'Family, Personal & Social Issues' 'Fantasy'\n",
      " 'Fantasy, Science Fiction & Horror' 'Games, Toys & Activities'\n",
      " 'Geography & Cultures' 'Growing Up & Facts of Life' 'Historical Fiction'\n",
      " 'History' 'Holidays & Celebrations' 'Humour'\n",
      " 'Interactive & Activity Books' 'Language Learning' 'Literature & Fiction'\n",
      " 'Money & Jobs' 'Mysteries & Curiosities' 'Picture Books' 'Reference'\n",
      " 'Religion' 'Science, Nature & Technology' 'Sport' 'Traditional Stories'\n",
      " 'Comics' 'Mangas' 'Computer Science' 'Databases & Big Data'\n",
      " 'Internet & Social Media' 'Network Administration' 'Operating Systems'\n",
      " 'Programming & Software Development' 'Software'\n",
      " 'Food, Drink & Entertaining' 'Games & Quizzes'\n",
      " 'Gardening & Landscape Design' 'Handicrafts, Decorative Arts & Crafts'\n",
      " 'Home & House Maintenance' 'Lifestyle & Personal Style Guides'\n",
      " 'Thrillers and Suspense' 'Electrical & Electronic Engineering'\n",
      " 'Arts, Design and Education Exams' 'Medical Entrance'\n",
      " 'Polytechnics & ITI' 'Professional Certification Exams' 'Horror'\n",
      " 'Personal Transformation' 'Self-Help' 'Business & Finance'\n",
      " 'Engineering Textbooks' 'Social Sciences' 'Ancient' 'Writing Guides'\n",
      " 'Tax Law' 'Classic Fiction' 'Crime, Thriller & Mystery' 'Essays'\n",
      " 'Fantasy, Horror & Science Fiction' 'Myths, Legends & Sagas' 'Poetry'\n",
      " 'Short Stories' 'Administration & Policy' 'Nursing' 'Research'\n",
      " 'Test Preparation & Review' 'Freedom & Security'\n",
      " 'International Relations & Globalization' 'Political Ideologies'\n",
      " 'Dictionaries & Thesauruses' 'Encyclopaedias & Reference Works'\n",
      " 'Library & Information Science' 'Words, Language & Grammar' 'Buddhism'\n",
      " 'Hinduism' 'Islam' 'Jainism' 'New Age & Spirituality' 'Religious Studies'\n",
      " 'Action & Adventure' 'Adaptations' 'Alpha Male' 'Amish'\n",
      " 'Clean & Wholesome' 'Collections & Anthologies' 'Contemporary'\n",
      " 'Enemies to Lovers' 'Holidays' 'Later in Life' 'Love Triangle'\n",
      " 'Mafia Romance' 'Multicultural & Interracial' 'New Adult & College'\n",
      " 'Paranormal' 'Romantic Comedy' 'Romantic Suspense' 'Science Fiction'\n",
      " 'Small Town Romance' 'Sports' 'Western & Frontier' 'Workplace Romance'\n",
      " 'International School Boards' 'Olympiads & Scholarship Exams'\n",
      " 'Biology & Life Sciences' 'Environmental Studies' 'Mathematics'\n",
      " 'Astronomy' 'Transportation & Automotive' 'Anthropology' 'Ethnography'\n",
      " 'Social Welfare & Social Services' 'Society & Culture'\n",
      " 'Active Outdoor Pursuits' 'Athletics & Gymnastics'\n",
      " 'Bowls, Bowling & Petanque' 'Cheerleading' 'Combat Sports & Self-Defence'\n",
      " 'Cricket' 'Cycling' 'Equestrian & Animal Sports' 'Field Sports' 'Hurling'\n",
      " 'Juggling' 'Netball' 'Pool, Billiards & Snooker' 'Softball'\n",
      " 'Sporting Events & Organisations' 'Training & Coaching' 'Triathlon'\n",
      " 'Volleyball' 'Winter Sports' 'Biographies' 'Hobbies & Games' 'Romance'\n",
      " 'Science Fiction & Fantasy' 'Social & Family Issues'\n",
      " 'Study Guides & Workbooks' 'Travel & Holiday Guides']\n",
      "***************************************************************************\n",
      "['Paperback' 'Kindle Edition' 'Audible Audiobook' 'Hardcover'\n",
      " 'Sheet music' 'Spiral-bound' 'Kindle Edition with Audio/Video'\n",
      " 'Mass Market Paperback' 'Flexibound' 'Puzzle' 'Single Issue Magazine'\n",
      " 'Staple Bound' 'Perfect Paperback' 'Board book' 'Product Bundle'\n",
      " 'Wall Chart' 'Rag Book' 'Print on Demand (Hardcover)' 'Gift' 'Poster'\n",
      " 'Cards' 'Misc. Supplies' 'Library Binding' 'Unknown Binding' 'Diary'\n",
      " 'Paperback Bunko' 'Textbook Binding' 'Card Book' 'Workbook' 'Stationery'\n",
      " 'Calendar' 'Game' 'Map']\n",
      "***************************************************************************\n"
     ]
    }
   ],
   "source": [
    "print(new_data[\"Main Genre\"].unique())\n",
    "print(\"***************************************************************************\")\n",
    "print(new_data[\"Sub Genre\"].unique())\n",
    "print(\"***************************************************************************\")\n",
    "print(new_data[\"Type\"].unique())\n",
    "print(\"***************************************************************************\")\n",
    "\n",
    "\n"
   ]
  },
  {
   "cell_type": "code",
   "execution_count": 28,
   "metadata": {},
   "outputs": [
    {
     "data": {
      "text/html": [
       "<div>\n",
       "<style scoped>\n",
       "    .dataframe tbody tr th:only-of-type {\n",
       "        vertical-align: middle;\n",
       "    }\n",
       "\n",
       "    .dataframe tbody tr th {\n",
       "        vertical-align: top;\n",
       "    }\n",
       "\n",
       "    .dataframe thead th {\n",
       "        text-align: right;\n",
       "    }\n",
       "</style>\n",
       "<table border=\"1\" class=\"dataframe\">\n",
       "  <thead>\n",
       "    <tr style=\"text-align: right;\">\n",
       "      <th></th>\n",
       "      <th>Main Genre</th>\n",
       "      <th>Price</th>\n",
       "    </tr>\n",
       "  </thead>\n",
       "  <tbody>\n",
       "    <tr>\n",
       "      <th>0</th>\n",
       "      <td>Arts, Film &amp; Photography</td>\n",
       "      <td>632.576600</td>\n",
       "    </tr>\n",
       "    <tr>\n",
       "      <th>1</th>\n",
       "      <td>Biographies, Diaries &amp; True Accounts</td>\n",
       "      <td>286.494000</td>\n",
       "    </tr>\n",
       "    <tr>\n",
       "      <th>2</th>\n",
       "      <td>Business &amp; Economics</td>\n",
       "      <td>402.880867</td>\n",
       "    </tr>\n",
       "    <tr>\n",
       "      <th>3</th>\n",
       "      <td>Children's Books</td>\n",
       "      <td>287.903807</td>\n",
       "    </tr>\n",
       "    <tr>\n",
       "      <th>4</th>\n",
       "      <td>Comics &amp; Mangas</td>\n",
       "      <td>297.391700</td>\n",
       "    </tr>\n",
       "    <tr>\n",
       "      <th>5</th>\n",
       "      <td>Computing, Internet &amp; Digital Media</td>\n",
       "      <td>1206.931371</td>\n",
       "    </tr>\n",
       "    <tr>\n",
       "      <th>6</th>\n",
       "      <td>Crafts, Home &amp; Lifestyle</td>\n",
       "      <td>529.638333</td>\n",
       "    </tr>\n",
       "    <tr>\n",
       "      <th>7</th>\n",
       "      <td>Crime, Thriller &amp; Mystery</td>\n",
       "      <td>278.934000</td>\n",
       "    </tr>\n",
       "    <tr>\n",
       "      <th>8</th>\n",
       "      <td>Engineering</td>\n",
       "      <td>598.033800</td>\n",
       "    </tr>\n",
       "    <tr>\n",
       "      <th>9</th>\n",
       "      <td>Exam Preparation</td>\n",
       "      <td>518.172900</td>\n",
       "    </tr>\n",
       "    <tr>\n",
       "      <th>10</th>\n",
       "      <td>Fantasy, Horror &amp; Science Fiction</td>\n",
       "      <td>425.394500</td>\n",
       "    </tr>\n",
       "    <tr>\n",
       "      <th>11</th>\n",
       "      <td>Health, Family &amp; Personal Development</td>\n",
       "      <td>297.521100</td>\n",
       "    </tr>\n",
       "    <tr>\n",
       "      <th>12</th>\n",
       "      <td>Higher Education Textbooks</td>\n",
       "      <td>628.549800</td>\n",
       "    </tr>\n",
       "    <tr>\n",
       "      <th>13</th>\n",
       "      <td>History</td>\n",
       "      <td>318.693200</td>\n",
       "    </tr>\n",
       "    <tr>\n",
       "      <th>14</th>\n",
       "      <td>Language, Linguistics &amp; Writing</td>\n",
       "      <td>441.107600</td>\n",
       "    </tr>\n",
       "    <tr>\n",
       "      <th>15</th>\n",
       "      <td>Law</td>\n",
       "      <td>832.998000</td>\n",
       "    </tr>\n",
       "    <tr>\n",
       "      <th>16</th>\n",
       "      <td>Literature &amp; Fiction</td>\n",
       "      <td>292.665600</td>\n",
       "    </tr>\n",
       "    <tr>\n",
       "      <th>17</th>\n",
       "      <td>Medicine &amp; Health Sciences</td>\n",
       "      <td>1836.450280</td>\n",
       "    </tr>\n",
       "    <tr>\n",
       "      <th>18</th>\n",
       "      <td>Politics</td>\n",
       "      <td>481.533667</td>\n",
       "    </tr>\n",
       "    <tr>\n",
       "      <th>19</th>\n",
       "      <td>Reference</td>\n",
       "      <td>378.218350</td>\n",
       "    </tr>\n",
       "    <tr>\n",
       "      <th>20</th>\n",
       "      <td>Religion</td>\n",
       "      <td>334.393567</td>\n",
       "    </tr>\n",
       "    <tr>\n",
       "      <th>21</th>\n",
       "      <td>Romance</td>\n",
       "      <td>318.671530</td>\n",
       "    </tr>\n",
       "    <tr>\n",
       "      <th>22</th>\n",
       "      <td>School Books</td>\n",
       "      <td>384.734400</td>\n",
       "    </tr>\n",
       "    <tr>\n",
       "      <th>23</th>\n",
       "      <td>Science &amp; Mathematics</td>\n",
       "      <td>777.885467</td>\n",
       "    </tr>\n",
       "    <tr>\n",
       "      <th>24</th>\n",
       "      <td>Sciences, Technology &amp; Medicine</td>\n",
       "      <td>613.393950</td>\n",
       "    </tr>\n",
       "    <tr>\n",
       "      <th>25</th>\n",
       "      <td>Society &amp; Social Sciences</td>\n",
       "      <td>475.508950</td>\n",
       "    </tr>\n",
       "    <tr>\n",
       "      <th>26</th>\n",
       "      <td>Sports</td>\n",
       "      <td>563.523267</td>\n",
       "    </tr>\n",
       "    <tr>\n",
       "      <th>27</th>\n",
       "      <td>Teen &amp; Young Adult</td>\n",
       "      <td>383.211514</td>\n",
       "    </tr>\n",
       "    <tr>\n",
       "      <th>28</th>\n",
       "      <td>Textbooks &amp; Study Guides</td>\n",
       "      <td>333.938000</td>\n",
       "    </tr>\n",
       "    <tr>\n",
       "      <th>29</th>\n",
       "      <td>Travel</td>\n",
       "      <td>673.118400</td>\n",
       "    </tr>\n",
       "  </tbody>\n",
       "</table>\n",
       "</div>"
      ],
      "text/plain": [
       "                               Main Genre        Price\n",
       "0                Arts, Film & Photography   632.576600\n",
       "1    Biographies, Diaries & True Accounts   286.494000\n",
       "2                    Business & Economics   402.880867\n",
       "3                        Children's Books   287.903807\n",
       "4                         Comics & Mangas   297.391700\n",
       "5     Computing, Internet & Digital Media  1206.931371\n",
       "6                Crafts, Home & Lifestyle   529.638333\n",
       "7               Crime, Thriller & Mystery   278.934000\n",
       "8                             Engineering   598.033800\n",
       "9                        Exam Preparation   518.172900\n",
       "10      Fantasy, Horror & Science Fiction   425.394500\n",
       "11  Health, Family & Personal Development   297.521100\n",
       "12             Higher Education Textbooks   628.549800\n",
       "13                                History   318.693200\n",
       "14        Language, Linguistics & Writing   441.107600\n",
       "15                                    Law   832.998000\n",
       "16                   Literature & Fiction   292.665600\n",
       "17             Medicine & Health Sciences  1836.450280\n",
       "18                               Politics   481.533667\n",
       "19                              Reference   378.218350\n",
       "20                               Religion   334.393567\n",
       "21                                Romance   318.671530\n",
       "22                           School Books   384.734400\n",
       "23                  Science & Mathematics   777.885467\n",
       "24        Sciences, Technology & Medicine   613.393950\n",
       "25              Society & Social Sciences   475.508950\n",
       "26                                 Sports   563.523267\n",
       "27                     Teen & Young Adult   383.211514\n",
       "28               Textbooks & Study Guides   333.938000\n",
       "29                                 Travel   673.118400"
      ]
     },
     "execution_count": 28,
     "metadata": {},
     "output_type": "execute_result"
    }
   ],
   "source": [
    "genre_price = new_data.groupby(\"Main Genre\")[[\"Price\"]].mean().reset_index()\n",
    "genre_price\n",
    "    \n"
   ]
  },
  {
   "cell_type": "code",
   "execution_count": 29,
   "metadata": {},
   "outputs": [],
   "source": [
    "import matplotlib.pyplot as plt\n",
    "import seaborn as sns\n",
    "import plotly.express as px"
   ]
  },
  {
   "cell_type": "code",
   "execution_count": 30,
   "metadata": {},
   "outputs": [
    {
     "data": {
      "image/png": "[encoded data removed]",
      "text/plain": [
       "<Figure size 1500x600 with 1 Axes>"
      ]
     },
     "metadata": {},
     "output_type": "display_data"
    }
   ],
   "source": [
    "plt.figure(figsize=(15,6))\n",
    "sns.barplot(x = \"Main Genre\",y=\"Price\",data=genre_price)\n",
    "plt.title(\"Price by Main Genre\")\n",
    "plt.xlabel(\"Main Genre\")\n",
    "plt.ylabel(\"Price\")\n",
    "plt.xticks(rotation = 90);\n"
   ]
  },
  {
   "cell_type": "code",
   "execution_count": 31,
   "metadata": {},
   "outputs": [
    {
     "data": {
      "text/html": [
       "<div>\n",
       "<style scoped>\n",
       "    .dataframe tbody tr th:only-of-type {\n",
       "        vertical-align: middle;\n",
       "    }\n",
       "\n",
       "    .dataframe tbody tr th {\n",
       "        vertical-align: top;\n",
       "    }\n",
       "\n",
       "    .dataframe thead th {\n",
       "        text-align: right;\n",
       "    }\n",
       "</style>\n",
       "<table border=\"1\" class=\"dataframe\">\n",
       "  <thead>\n",
       "    <tr style=\"text-align: right;\">\n",
       "      <th></th>\n",
       "      <th>Title</th>\n",
       "      <th>Author</th>\n",
       "      <th>Main Genre</th>\n",
       "      <th>Sub Genre</th>\n",
       "      <th>Type</th>\n",
       "      <th>Price</th>\n",
       "      <th>Rating</th>\n",
       "      <th>No. of People rated</th>\n",
       "      <th>URLs</th>\n",
       "      <th>Point</th>\n",
       "    </tr>\n",
       "  </thead>\n",
       "  <tbody>\n",
       "    <tr>\n",
       "      <th>0</th>\n",
       "      <td>The Complete Novel of Sherlock Holmes</td>\n",
       "      <td>Arthur Conan Doyle</td>\n",
       "      <td>Arts, Film &amp; Photography</td>\n",
       "      <td>Cinema &amp; Broadcast</td>\n",
       "      <td>Paperback</td>\n",
       "      <td>169.00</td>\n",
       "      <td>4.4</td>\n",
       "      <td>19923.0</td>\n",
       "      <td>https://www.amazon.in/Complete-Novels-Sherlock...</td>\n",
       "      <td>3.896053</td>\n",
       "    </tr>\n",
       "    <tr>\n",
       "      <th>1</th>\n",
       "      <td>Black Holes (L) : The Reith Lectures [Paperbac...</td>\n",
       "      <td>Stephen Hawking</td>\n",
       "      <td>Arts, Film &amp; Photography</td>\n",
       "      <td>Cinema &amp; Broadcast</td>\n",
       "      <td>Paperback</td>\n",
       "      <td>99.00</td>\n",
       "      <td>4.5</td>\n",
       "      <td>7686.0</td>\n",
       "      <td>https://www.amazon.in/Black-Holes-Lectures-Ste...</td>\n",
       "      <td>1.537200</td>\n",
       "    </tr>\n",
       "    <tr>\n",
       "      <th>2</th>\n",
       "      <td>The Kite Runner</td>\n",
       "      <td>Khaled Hosseini</td>\n",
       "      <td>Arts, Film &amp; Photography</td>\n",
       "      <td>Cinema &amp; Broadcast</td>\n",
       "      <td>Kindle Edition</td>\n",
       "      <td>175.75</td>\n",
       "      <td>4.6</td>\n",
       "      <td>50016.0</td>\n",
       "      <td>https://www.amazon.in/Kite-Runner-Khaled-Hosse...</td>\n",
       "      <td>10.225493</td>\n",
       "    </tr>\n",
       "    <tr>\n",
       "      <th>3</th>\n",
       "      <td>Greenlights: Raucous stories and outlaw wisdom...</td>\n",
       "      <td>Matthew McConaughey</td>\n",
       "      <td>Arts, Film &amp; Photography</td>\n",
       "      <td>Cinema &amp; Broadcast</td>\n",
       "      <td>Paperback</td>\n",
       "      <td>389.00</td>\n",
       "      <td>4.6</td>\n",
       "      <td>32040.0</td>\n",
       "      <td>https://www.amazon.in/Greenlights-Raucous-stor...</td>\n",
       "      <td>6.550400</td>\n",
       "    </tr>\n",
       "    <tr>\n",
       "      <th>4</th>\n",
       "      <td>The Science of Storytelling: Why Stories Make ...</td>\n",
       "      <td>Will Storr</td>\n",
       "      <td>Arts, Film &amp; Photography</td>\n",
       "      <td>Cinema &amp; Broadcast</td>\n",
       "      <td>Paperback</td>\n",
       "      <td>348.16</td>\n",
       "      <td>4.5</td>\n",
       "      <td>1707.0</td>\n",
       "      <td>https://www.amazon.in/Science-Storytelling-Wil...</td>\n",
       "      <td>0.341400</td>\n",
       "    </tr>\n",
       "    <tr>\n",
       "      <th>...</th>\n",
       "      <td>...</td>\n",
       "      <td>...</td>\n",
       "      <td>...</td>\n",
       "      <td>...</td>\n",
       "      <td>...</td>\n",
       "      <td>...</td>\n",
       "      <td>...</td>\n",
       "      <td>...</td>\n",
       "      <td>...</td>\n",
       "      <td>...</td>\n",
       "    </tr>\n",
       "    <tr>\n",
       "      <th>7923</th>\n",
       "      <td>Insight Guides Poland (Travel Guide with Free ...</td>\n",
       "      <td>Insight Travel Guide</td>\n",
       "      <td>Travel</td>\n",
       "      <td>Travel &amp; Holiday Guides</td>\n",
       "      <td>Paperback</td>\n",
       "      <td>1326.00</td>\n",
       "      <td>4.7</td>\n",
       "      <td>16.0</td>\n",
       "      <td>https://www.amazon.in/Insight-Guides-Poland-Tr...</td>\n",
       "      <td>0.003342</td>\n",
       "    </tr>\n",
       "    <tr>\n",
       "      <th>7924</th>\n",
       "      <td>Lonely Planet India 19 (Travel Guide)</td>\n",
       "      <td>Anirban Mahapatra</td>\n",
       "      <td>Travel</td>\n",
       "      <td>Travel &amp; Holiday Guides</td>\n",
       "      <td>Paperback</td>\n",
       "      <td>850.00</td>\n",
       "      <td>4.4</td>\n",
       "      <td>187.0</td>\n",
       "      <td>https://www.amazon.in/Lonely-Planet-India-Trav...</td>\n",
       "      <td>0.036569</td>\n",
       "    </tr>\n",
       "    <tr>\n",
       "      <th>7925</th>\n",
       "      <td>Eyewitness Travel Phrase Book French (EW Trave...</td>\n",
       "      <td>DK</td>\n",
       "      <td>Travel</td>\n",
       "      <td>Travel &amp; Holiday Guides</td>\n",
       "      <td>Paperback</td>\n",
       "      <td>307.00</td>\n",
       "      <td>4.5</td>\n",
       "      <td>168.0</td>\n",
       "      <td>https://www.amazon.in/Eyewitness-Travel-Phrase...</td>\n",
       "      <td>0.033600</td>\n",
       "    </tr>\n",
       "    <tr>\n",
       "      <th>7926</th>\n",
       "      <td>Lonely Planet Australia (Travel Guide)</td>\n",
       "      <td>Andrew Bain</td>\n",
       "      <td>Travel</td>\n",
       "      <td>Travel &amp; Holiday Guides</td>\n",
       "      <td>Kindle Edition</td>\n",
       "      <td>1814.50</td>\n",
       "      <td>4.7</td>\n",
       "      <td>267.0</td>\n",
       "      <td>https://www.amazon.in/Lonely-Planet-Australia-...</td>\n",
       "      <td>0.055773</td>\n",
       "    </tr>\n",
       "    <tr>\n",
       "      <th>7927</th>\n",
       "      <td>Political Map of India Latest Map of India Wit...</td>\n",
       "      <td>Wonder House Books</td>\n",
       "      <td>Travel</td>\n",
       "      <td>Travel &amp; Holiday Guides</td>\n",
       "      <td>Poster</td>\n",
       "      <td>99.00</td>\n",
       "      <td>3.9</td>\n",
       "      <td>48.0</td>\n",
       "      <td>https://www.amazon.in/Political-Map-India-Terr...</td>\n",
       "      <td>0.008320</td>\n",
       "    </tr>\n",
       "  </tbody>\n",
       "</table>\n",
       "<p>7928 rows × 10 columns</p>\n",
       "</div>"
      ],
      "text/plain": [
       "                                                  Title                Author  \\\n",
       "0                 The Complete Novel of Sherlock Holmes    Arthur Conan Doyle   \n",
       "1     Black Holes (L) : The Reith Lectures [Paperbac...       Stephen Hawking   \n",
       "2                                       The Kite Runner       Khaled Hosseini   \n",
       "3     Greenlights: Raucous stories and outlaw wisdom...   Matthew McConaughey   \n",
       "4     The Science of Storytelling: Why Stories Make ...            Will Storr   \n",
       "...                                                 ...                   ...   \n",
       "7923  Insight Guides Poland (Travel Guide with Free ...  Insight Travel Guide   \n",
       "7924              Lonely Planet India 19 (Travel Guide)     Anirban Mahapatra   \n",
       "7925  Eyewitness Travel Phrase Book French (EW Trave...                    DK   \n",
       "7926             Lonely Planet Australia (Travel Guide)           Andrew Bain   \n",
       "7927  Political Map of India Latest Map of India Wit...    Wonder House Books   \n",
       "\n",
       "                    Main Genre                Sub Genre            Type  \\\n",
       "0     Arts, Film & Photography       Cinema & Broadcast       Paperback   \n",
       "1     Arts, Film & Photography       Cinema & Broadcast       Paperback   \n",
       "2     Arts, Film & Photography       Cinema & Broadcast  Kindle Edition   \n",
       "3     Arts, Film & Photography       Cinema & Broadcast       Paperback   \n",
       "4     Arts, Film & Photography       Cinema & Broadcast       Paperback   \n",
       "...                        ...                      ...             ...   \n",
       "7923                    Travel  Travel & Holiday Guides       Paperback   \n",
       "7924                    Travel  Travel & Holiday Guides       Paperback   \n",
       "7925                    Travel  Travel & Holiday Guides       Paperback   \n",
       "7926                    Travel  Travel & Holiday Guides  Kindle Edition   \n",
       "7927                    Travel  Travel & Holiday Guides          Poster   \n",
       "\n",
       "        Price  Rating  No. of People rated  \\\n",
       "0      169.00     4.4              19923.0   \n",
       "1       99.00     4.5               7686.0   \n",
       "2      175.75     4.6              50016.0   \n",
       "3      389.00     4.6              32040.0   \n",
       "4      348.16     4.5               1707.0   \n",
       "...       ...     ...                  ...   \n",
       "7923  1326.00     4.7                 16.0   \n",
       "7924   850.00     4.4                187.0   \n",
       "7925   307.00     4.5                168.0   \n",
       "7926  1814.50     4.7                267.0   \n",
       "7927    99.00     3.9                 48.0   \n",
       "\n",
       "                                                   URLs      Point  \n",
       "0     https://www.amazon.in/Complete-Novels-Sherlock...   3.896053  \n",
       "1     https://www.amazon.in/Black-Holes-Lectures-Ste...   1.537200  \n",
       "2     https://www.amazon.in/Kite-Runner-Khaled-Hosse...  10.225493  \n",
       "3     https://www.amazon.in/Greenlights-Raucous-stor...   6.550400  \n",
       "4     https://www.amazon.in/Science-Storytelling-Wil...   0.341400  \n",
       "...                                                 ...        ...  \n",
       "7923  https://www.amazon.in/Insight-Guides-Poland-Tr...   0.003342  \n",
       "7924  https://www.amazon.in/Lonely-Planet-India-Trav...   0.036569  \n",
       "7925  https://www.amazon.in/Eyewitness-Travel-Phrase...   0.033600  \n",
       "7926  https://www.amazon.in/Lonely-Planet-Australia-...   0.055773  \n",
       "7927  https://www.amazon.in/Political-Map-India-Terr...   0.008320  \n",
       "\n",
       "[7928 rows x 10 columns]"
      ]
     },
     "execution_count": 31,
     "metadata": {},
     "output_type": "execute_result"
    }
   ],
   "source": [
    "new_data[\"Point\"] = (new_data[\"Rating\"] * new_data[\"No. of People rated\"]) / 22500\n",
    "new_data\n"
   ]
  },
  {
   "cell_type": "code",
   "execution_count": 32,
   "metadata": {},
   "outputs": [],
   "source": [
    "top_10_author = new_data.groupby([\"Author\", \"Type\"])[[\"Point\"]].mean().sort_values(by=\"Point\",ascending=False).head(14).reset_index()"
   ]
  },
  {
   "cell_type": "code",
   "execution_count": 33,
   "metadata": {},
   "outputs": [
    {
     "name": "stdout",
     "output_type": "stream",
     "text": [
      "10\n"
     ]
    },
    {
     "data": {
      "text/html": [
       "<div>\n",
       "<style scoped>\n",
       "    .dataframe tbody tr th:only-of-type {\n",
       "        vertical-align: middle;\n",
       "    }\n",
       "\n",
       "    .dataframe tbody tr th {\n",
       "        vertical-align: top;\n",
       "    }\n",
       "\n",
       "    .dataframe thead th {\n",
       "        text-align: right;\n",
       "    }\n",
       "</style>\n",
       "<table border=\"1\" class=\"dataframe\">\n",
       "  <thead>\n",
       "    <tr style=\"text-align: right;\">\n",
       "      <th></th>\n",
       "      <th>Author</th>\n",
       "      <th>Type</th>\n",
       "      <th>Point</th>\n",
       "    </tr>\n",
       "  </thead>\n",
       "  <tbody>\n",
       "    <tr>\n",
       "      <th>0</th>\n",
       "      <td>Delia Owens</td>\n",
       "      <td>Paperback</td>\n",
       "      <td>100.023800</td>\n",
       "    </tr>\n",
       "    <tr>\n",
       "      <th>1</th>\n",
       "      <td>Paula Hawkins</td>\n",
       "      <td>Paperback</td>\n",
       "      <td>87.763507</td>\n",
       "    </tr>\n",
       "    <tr>\n",
       "      <th>2</th>\n",
       "      <td>Alex Michaelides</td>\n",
       "      <td>Kindle Edition</td>\n",
       "      <td>58.364400</td>\n",
       "    </tr>\n",
       "    <tr>\n",
       "      <th>3</th>\n",
       "      <td>Bonnie Garmus</td>\n",
       "      <td>Paperback</td>\n",
       "      <td>53.968427</td>\n",
       "    </tr>\n",
       "    <tr>\n",
       "      <th>4</th>\n",
       "      <td>Bonnie Garmus</td>\n",
       "      <td>Kindle Edition</td>\n",
       "      <td>53.968427</td>\n",
       "    </tr>\n",
       "    <tr>\n",
       "      <th>5</th>\n",
       "      <td>Colleen Hoover</td>\n",
       "      <td>Kindle Edition</td>\n",
       "      <td>53.109253</td>\n",
       "    </tr>\n",
       "    <tr>\n",
       "      <th>6</th>\n",
       "      <td>Colleen Hoover</td>\n",
       "      <td>Paperback</td>\n",
       "      <td>47.486538</td>\n",
       "    </tr>\n",
       "    <tr>\n",
       "      <th>7</th>\n",
       "      <td>Freida Mcfadden</td>\n",
       "      <td>Paperback</td>\n",
       "      <td>46.253284</td>\n",
       "    </tr>\n",
       "    <tr>\n",
       "      <th>8</th>\n",
       "      <td>Rebecca Yarros</td>\n",
       "      <td>Hardcover</td>\n",
       "      <td>34.656547</td>\n",
       "    </tr>\n",
       "    <tr>\n",
       "      <th>9</th>\n",
       "      <td>Sarah J. Maas</td>\n",
       "      <td>Audible Audiobook</td>\n",
       "      <td>33.630471</td>\n",
       "    </tr>\n",
       "    <tr>\n",
       "      <th>10</th>\n",
       "      <td>Sarah J. Maas</td>\n",
       "      <td>Paperback</td>\n",
       "      <td>31.988287</td>\n",
       "    </tr>\n",
       "    <tr>\n",
       "      <th>11</th>\n",
       "      <td>Rebecca Yarros</td>\n",
       "      <td>Kindle Edition</td>\n",
       "      <td>30.162520</td>\n",
       "    </tr>\n",
       "    <tr>\n",
       "      <th>12</th>\n",
       "      <td>Mark Manson</td>\n",
       "      <td>Audible Audiobook</td>\n",
       "      <td>28.279000</td>\n",
       "    </tr>\n",
       "    <tr>\n",
       "      <th>13</th>\n",
       "      <td>Jojo Moyes</td>\n",
       "      <td>Paperback</td>\n",
       "      <td>28.005000</td>\n",
       "    </tr>\n",
       "  </tbody>\n",
       "</table>\n",
       "</div>"
      ],
      "text/plain": [
       "              Author               Type       Point\n",
       "0        Delia Owens          Paperback  100.023800\n",
       "1      Paula Hawkins          Paperback   87.763507\n",
       "2   Alex Michaelides     Kindle Edition   58.364400\n",
       "3      Bonnie Garmus          Paperback   53.968427\n",
       "4      Bonnie Garmus     Kindle Edition   53.968427\n",
       "5     Colleen Hoover     Kindle Edition   53.109253\n",
       "6     Colleen Hoover          Paperback   47.486538\n",
       "7    Freida Mcfadden          Paperback   46.253284\n",
       "8     Rebecca Yarros          Hardcover   34.656547\n",
       "9      Sarah J. Maas  Audible Audiobook   33.630471\n",
       "10     Sarah J. Maas          Paperback   31.988287\n",
       "11    Rebecca Yarros     Kindle Edition   30.162520\n",
       "12       Mark Manson  Audible Audiobook   28.279000\n",
       "13        Jojo Moyes          Paperback   28.005000"
      ]
     },
     "execution_count": 33,
     "metadata": {},
     "output_type": "execute_result"
    }
   ],
   "source": [
    "top_10_author.loc[top_10_author[\"Author\"] == \"Garmus Bonnie\", \"Author\"] = \"Bonnie Garmus\"\n",
    "print(len(top_10_author[\"Author\"].unique()))\n",
    "top_10_author"
   ]
  },
  {
   "cell_type": "code",
   "execution_count": 34,
   "metadata": {},
   "outputs": [
    {
     "data": {
      "application/vnd.plotly.v1+json": {
       "config": {
        "plotlyServerURL": "https://plot.ly"
       },
       "data": [
        {
         "alignmentgroup": "True",
         "hovertemplate": "Type=Paperback<br>Author=%{x}<br>Point=%{y}<extra></extra>",
         "legendgroup": "Paperback",
         "marker": {
          "color": "#636efa",
          "pattern": {
           "shape": ""
          }
         },
         "name": "Paperback",
         "offsetgroup": "Paperback",
         "orientation": "v",
         "showlegend": true,
         "textposition": "auto",
         "type": "bar",
         "x": [
          "Delia Owens",
          "Paula Hawkins",
          "Bonnie Garmus",
          "Colleen Hoover",
          "Freida Mcfadden",
          "Sarah J. Maas",
          "Jojo Moyes"
         ],
         "xaxis": "x",
         "y": [
          100.0238,
          87.76350666666666,
          53.96842666666666,
          47.48653777777778,
          46.25328444444444,
          31.988286666666667,
          28.005
         ],
         "yaxis": "y"
        },
        {
         "alignmentgroup": "True",
         "hovertemplate": "Type=Kindle Edition<br>Author=%{x}<br>Point=%{y}<extra></extra>",
         "legendgroup": "Kindle Edition",
         "marker": {
          "color": "#EF553B",
          "pattern": {
           "shape": ""
          }
         },
         "name": "Kindle Edition",
         "offsetgroup": "Kindle Edition",
         "orientation": "v",
         "showlegend": true,
         "textposition": "auto",
         "type": "bar",
         "x": [
          "Alex Michaelides",
          "Bonnie Garmus",
          "Colleen Hoover",
          "Rebecca Yarros"
         ],
         "xaxis": "x",
         "y": [
          58.3644,
          53.96842666666666,
          53.109253333333335,
          30.162519999999997
         ],
         "yaxis": "y"
        },
        {
         "alignmentgroup": "True",
         "hovertemplate": "Type=Hardcover<br>Author=%{x}<br>Point=%{y}<extra></extra>",
         "legendgroup": "Hardcover",
         "marker": {
          "color": "#00cc96",
          "pattern": {
           "shape": ""
          }
         },
         "name": "Hardcover",
         "offsetgroup": "Hardcover",
         "orientation": "v",
         "showlegend": true,
         "textposition": "auto",
         "type": "bar",
         "x": [
          "Rebecca Yarros"
         ],
         "xaxis": "x",
         "y": [
          34.65654666666667
         ],
         "yaxis": "y"
        },
        {
         "alignmentgroup": "True",
         "hovertemplate": "Type=Audible Audiobook<br>Author=%{x}<br>Point=%{y}<extra></extra>",
         "legendgroup": "Audible Audiobook",
         "marker": {
          "color": "#ab63fa",
          "pattern": {
           "shape": ""
          }
         },
         "name": "Audible Audiobook",
         "offsetgroup": "Audible Audiobook",
         "orientation": "v",
         "showlegend": true,
         "textposition": "auto",
         "type": "bar",
         "x": [
          "Sarah J. Maas",
          "Mark Manson"
         ],
         "xaxis": "x",
         "y": [
          33.63047111111111,
          28.279
         ],
         "yaxis": "y"
        }
       ],
       "layout": {
        "barmode": "relative",
        "legend": {
         "title": {
          "text": "Type"
         },
         "tracegroupgap": 0
        },
        "margin": {
         "t": 60
        },
        "template": {
         "data": {
          "bar": [
           {
            "error_x": {
             "color": "#2a3f5f"
            },
            "error_y": {
             "color": "#2a3f5f"
            },
            "marker": {
             "line": {
              "color": "#E5ECF6",
              "width": 0.5
             },
             "pattern": {
              "fillmode": "overlay",
              "size": 10,
              "solidity": 0.2
             }
            },
            "type": "bar"
           }
          ],
          "barpolar": [
           {
            "marker": {
             "line": {
              "color": "#E5ECF6",
              "width": 0.5
             },
             "pattern": {
              "fillmode": "overlay",
              "size": 10,
              "solidity": 0.2
             }
            },
            "type": "barpolar"
           }
          ],
          "carpet": [
           {
            "aaxis": {
             "endlinecolor": "#2a3f5f",
             "gridcolor": "white",
             "linecolor": "white",
             "minorgridcolor": "white",
             "startlinecolor": "#2a3f5f"
            },
            "baxis": {
             "endlinecolor": "#2a3f5f",
             "gridcolor": "white",
             "linecolor": "white",
             "minorgridcolor": "white",
             "startlinecolor": "#2a3f5f"
            },
            "type": "carpet"
           }
          ],
          "choropleth": [
           {
            "colorbar": {
             "outlinewidth": 0,
             "ticks": ""
            },
            "type": "choropleth"
           }
          ],
          "contour": [
           {
            "colorbar": {
             "outlinewidth": 0,
             "ticks": ""
            },
            "colorscale": [
             [
              0,
              "#0d0887"
             ],
             [
              0.1111111111111111,
              "#46039f"
             ],
             [
              0.2222222222222222,
              "#7201a8"
             ],
             [
              0.3333333333333333,
              "#9c179e"
             ],
             [
              0.4444444444444444,
              "#bd3786"
             ],
             [
              0.5555555555555556,
              "#d8576b"
             ],
             [
              0.6666666666666666,
              "#ed7953"
             ],
             [
              0.7777777777777778,
              "#fb9f3a"
             ],
             [
              0.8888888888888888,
              "#fdca26"
             ],
             [
              1,
              "#f0f921"
             ]
            ],
            "type": "contour"
           }
          ],
          "contourcarpet": [
           {
            "colorbar": {
             "outlinewidth": 0,
             "ticks": ""
            },
            "type": "contourcarpet"
           }
          ],
          "heatmap": [
           {
            "colorbar": {
             "outlinewidth": 0,
             "ticks": ""
            },
            "colorscale": [
             [
              0,
              "#0d0887"
             ],
             [
              0.1111111111111111,
              "#46039f"
             ],
             [
              0.2222222222222222,
              "#7201a8"
             ],
             [
              0.3333333333333333,
              "#9c179e"
             ],
             [
              0.4444444444444444,
              "#bd3786"
             ],
             [
              0.5555555555555556,
              "#d8576b"
             ],
             [
              0.6666666666666666,
              "#ed7953"
             ],
             [
              0.7777777777777778,
              "#fb9f3a"
             ],
             [
              0.8888888888888888,
              "#fdca26"
             ],
             [
              1,
              "#f0f921"
             ]
            ],
            "type": "heatmap"
           }
          ],
          "heatmapgl": [
           {
            "colorbar": {
             "outlinewidth": 0,
             "ticks": ""
            },
            "colorscale": [
             [
              0,
              "#0d0887"
             ],
             [
              0.1111111111111111,
              "#46039f"
             ],
             [
              0.2222222222222222,
              "#7201a8"
             ],
             [
              0.3333333333333333,
              "#9c179e"
             ],
             [
              0.4444444444444444,
              "#bd3786"
             ],
             [
              0.5555555555555556,
              "#d8576b"
             ],
             [
              0.6666666666666666,
              "#ed7953"
             ],
             [
              0.7777777777777778,
              "#fb9f3a"
             ],
             [
              0.8888888888888888,
              "#fdca26"
             ],
             [
              1,
              "#f0f921"
             ]
            ],
            "type": "heatmapgl"
           }
          ],
          "histogram": [
           {
            "marker": {
             "pattern": {
              "fillmode": "overlay",
              "size": 10,
              "solidity": 0.2
             }
            },
            "type": "histogram"
           }
          ],
          "histogram2d": [
           {
            "colorbar": {
             "outlinewidth": 0,
             "ticks": ""
            },
            "colorscale": [
             [
              0,
              "#0d0887"
             ],
             [
              0.1111111111111111,
              "#46039f"
             ],
             [
              0.2222222222222222,
              "#7201a8"
             ],
             [
              0.3333333333333333,
              "#9c179e"
             ],
             [
              0.4444444444444444,
              "#bd3786"
             ],
             [
              0.5555555555555556,
              "#d8576b"
             ],
             [
              0.6666666666666666,
              "#ed7953"
             ],
             [
              0.7777777777777778,
              "#fb9f3a"
             ],
             [
              0.8888888888888888,
              "#fdca26"
             ],
             [
              1,
              "#f0f921"
             ]
            ],
            "type": "histogram2d"
           }
          ],
          "histogram2dcontour": [
           {
            "colorbar": {
             "outlinewidth": 0,
             "ticks": ""
            },
            "colorscale": [
             [
              0,
              "#0d0887"
             ],
             [
              0.1111111111111111,
              "#46039f"
             ],
             [
              0.2222222222222222,
              "#7201a8"
             ],
             [
              0.3333333333333333,
              "#9c179e"
             ],
             [
              0.4444444444444444,
              "#bd3786"
             ],
             [
              0.5555555555555556,
              "#d8576b"
             ],
             [
              0.6666666666666666,
              "#ed7953"
             ],
             [
              0.7777777777777778,
              "#fb9f3a"
             ],
             [
              0.8888888888888888,
              "#fdca26"
             ],
             [
              1,
              "#f0f921"
             ]
            ],
            "type": "histogram2dcontour"
           }
          ],
          "mesh3d": [
           {
            "colorbar": {
             "outlinewidth": 0,
             "ticks": ""
            },
            "type": "mesh3d"
           }
          ],
          "parcoords": [
           {
            "line": {
             "colorbar": {
              "outlinewidth": 0,
              "ticks": ""
             }
            },
            "type": "parcoords"
           }
          ],
          "pie": [
           {
            "automargin": true,
            "type": "pie"
           }
          ],
          "scatter": [
           {
            "fillpattern": {
             "fillmode": "overlay",
             "size": 10,
             "solidity": 0.2
            },
            "type": "scatter"
           }
          ],
          "scatter3d": [
           {
            "line": {
             "colorbar": {
              "outlinewidth": 0,
              "ticks": ""
             }
            },
            "marker": {
             "colorbar": {
              "outlinewidth": 0,
              "ticks": ""
             }
            },
            "type": "scatter3d"
           }
          ],
          "scattercarpet": [
           {
            "marker": {
             "colorbar": {
              "outlinewidth": 0,
              "ticks": ""
             }
            },
            "type": "scattercarpet"
           }
          ],
          "scattergeo": [
           {
            "marker": {
             "colorbar": {
              "outlinewidth": 0,
              "ticks": ""
             }
            },
            "type": "scattergeo"
           }
          ],
          "scattergl": [
           {
            "marker": {
             "colorbar": {
              "outlinewidth": 0,
              "ticks": ""
             }
            },
            "type": "scattergl"
           }
          ],
          "scattermapbox": [
           {
            "marker": {
             "colorbar": {
              "outlinewidth": 0,
              "ticks": ""
             }
            },
            "type": "scattermapbox"
           }
          ],
          "scatterpolar": [
           {
            "marker": {
             "colorbar": {
              "outlinewidth": 0,
              "ticks": ""
             }
            },
            "type": "scatterpolar"
           }
          ],
          "scatterpolargl": [
           {
            "marker": {
             "colorbar": {
              "outlinewidth": 0,
              "ticks": ""
             }
            },
            "type": "scatterpolargl"
           }
          ],
          "scatterternary": [
           {
            "marker": {
             "colorbar": {
              "outlinewidth": 0,
              "ticks": ""
             }
            },
            "type": "scatterternary"
           }
          ],
          "surface": [
           {
            "colorbar": {
             "outlinewidth": 0,
             "ticks": ""
            },
            "colorscale": [
             [
              0,
              "#0d0887"
             ],
             [
              0.1111111111111111,
              "#46039f"
             ],
             [
              0.2222222222222222,
              "#7201a8"
             ],
             [
              0.3333333333333333,
              "#9c179e"
             ],
             [
              0.4444444444444444,
              "#bd3786"
             ],
             [
              0.5555555555555556,
              "#d8576b"
             ],
             [
              0.6666666666666666,
              "#ed7953"
             ],
             [
              0.7777777777777778,
              "#fb9f3a"
             ],
             [
              0.8888888888888888,
              "#fdca26"
             ],
             [
              1,
              "#f0f921"
             ]
            ],
            "type": "surface"
           }
          ],
          "table": [
           {
            "cells": {
             "fill": {
              "color": "#EBF0F8"
             },
             "line": {
              "color": "white"
             }
            },
            "header": {
             "fill": {
              "color": "#C8D4E3"
             },
             "line": {
              "color": "white"
             }
            },
            "type": "table"
           }
          ]
         },
         "layout": {
          "annotationdefaults": {
           "arrowcolor": "#2a3f5f",
           "arrowhead": 0,
           "arrowwidth": 1
          },
          "autotypenumbers": "strict",
          "coloraxis": {
           "colorbar": {
            "outlinewidth": 0,
            "ticks": ""
           }
          },
          "colorscale": {
           "diverging": [
            [
             0,
             "#8e0152"
            ],
            [
             0.1,
             "#c51b7d"
            ],
            [
             0.2,
             "#de77ae"
            ],
            [
             0.3,
             "#f1b6da"
            ],
            [
             0.4,
             "#fde0ef"
            ],
            [
             0.5,
             "#f7f7f7"
            ],
            [
             0.6,
             "#e6f5d0"
            ],
            [
             0.7,
             "#b8e186"
            ],
            [
             0.8,
             "#7fbc41"
            ],
            [
             0.9,
             "#4d9221"
            ],
            [
             1,
             "#276419"
            ]
           ],
           "sequential": [
            [
             0,
             "#0d0887"
            ],
            [
             0.1111111111111111,
             "#46039f"
            ],
            [
             0.2222222222222222,
             "#7201a8"
            ],
            [
             0.3333333333333333,
             "#9c179e"
            ],
            [
             0.4444444444444444,
             "#bd3786"
            ],
            [
             0.5555555555555556,
             "#d8576b"
            ],
            [
             0.6666666666666666,
             "#ed7953"
            ],
            [
             0.7777777777777778,
             "#fb9f3a"
            ],
            [
             0.8888888888888888,
             "#fdca26"
            ],
            [
             1,
             "#f0f921"
            ]
           ],
           "sequentialminus": [
            [
             0,
             "#0d0887"
            ],
            [
             0.1111111111111111,
             "#46039f"
            ],
            [
             0.2222222222222222,
             "#7201a8"
            ],
            [
             0.3333333333333333,
             "#9c179e"
            ],
            [
             0.4444444444444444,
             "#bd3786"
            ],
            [
             0.5555555555555556,
             "#d8576b"
            ],
            [
             0.6666666666666666,
             "#ed7953"
            ],
            [
             0.7777777777777778,
             "#fb9f3a"
            ],
            [
             0.8888888888888888,
             "#fdca26"
            ],
            [
             1,
             "#f0f921"
            ]
           ]
          },
          "colorway": [
           "#636efa",
           "#EF553B",
           "#00cc96",
           "#ab63fa",
           "#FFA15A",
           "#19d3f3",
           "#FF6692",
           "#B6E880",
           "#FF97FF",
           "#FECB52"
          ],
          "font": {
           "color": "#2a3f5f"
          },
          "geo": {
           "bgcolor": "white",
           "lakecolor": "white",
           "landcolor": "#E5ECF6",
           "showlakes": true,
           "showland": true,
           "subunitcolor": "white"
          },
          "hoverlabel": {
           "align": "left"
          },
          "hovermode": "closest",
          "mapbox": {
           "style": "light"
          },
          "paper_bgcolor": "white",
          "plot_bgcolor": "#E5ECF6",
          "polar": {
           "angularaxis": {
            "gridcolor": "white",
            "linecolor": "white",
            "ticks": ""
           },
           "bgcolor": "#E5ECF6",
           "radialaxis": {
            "gridcolor": "white",
            "linecolor": "white",
            "ticks": ""
           }
          },
          "scene": {
           "xaxis": {
            "backgroundcolor": "#E5ECF6",
            "gridcolor": "white",
            "gridwidth": 2,
            "linecolor": "white",
            "showbackground": true,
            "ticks": "",
            "zerolinecolor": "white"
           },
           "yaxis": {
            "backgroundcolor": "#E5ECF6",
            "gridcolor": "white",
            "gridwidth": 2,
            "linecolor": "white",
            "showbackground": true,
            "ticks": "",
            "zerolinecolor": "white"
           },
           "zaxis": {
            "backgroundcolor": "#E5ECF6",
            "gridcolor": "white",
            "gridwidth": 2,
            "linecolor": "white",
            "showbackground": true,
            "ticks": "",
            "zerolinecolor": "white"
           }
          },
          "shapedefaults": {
           "line": {
            "color": "#2a3f5f"
           }
          },
          "ternary": {
           "aaxis": {
            "gridcolor": "white",
            "linecolor": "white",
            "ticks": ""
           },
           "baxis": {
            "gridcolor": "white",
            "linecolor": "white",
            "ticks": ""
           },
           "bgcolor": "#E5ECF6",
           "caxis": {
            "gridcolor": "white",
            "linecolor": "white",
            "ticks": ""
           }
          },
          "title": {
           "x": 0.05
          },
          "xaxis": {
           "automargin": true,
           "gridcolor": "white",
           "linecolor": "white",
           "ticks": "",
           "title": {
            "standoff": 15
           },
           "zerolinecolor": "white",
           "zerolinewidth": 2
          },
          "yaxis": {
           "automargin": true,
           "gridcolor": "white",
           "linecolor": "white",
           "ticks": "",
           "title": {
            "standoff": 15
           },
           "zerolinecolor": "white",
           "zerolinewidth": 2
          }
         }
        },
        "title": {
         "text": "Top 10 authors by reviews"
        },
        "xaxis": {
         "anchor": "y",
         "domain": [
          0,
          1
         ],
         "title": {
          "text": "Author"
         }
        },
        "yaxis": {
         "anchor": "x",
         "domain": [
          0,
          1
         ],
         "title": {
          "text": "Point"
         }
        }
       }
      }
     },
     "metadata": {},
     "output_type": "display_data"
    }
   ],
   "source": [
    "fig=px.bar(data_frame=top_10_author,x=\"Author\", y= \"Point\", color= \"Type\")\n",
    "fig.update_layout(title = \"Top 10 authors by reviews\")\n",
    "fig.show()\n",
    "\n"
   ]
  },
  {
   "cell_type": "code",
   "execution_count": null,
   "metadata": {},
   "outputs": [],
   "source": []
  },
  {
   "cell_type": "code",
   "execution_count": null,
   "metadata": {},
   "outputs": [],
   "source": []
  }
 ],
 "metadata": {
  "kernelspec": {
   "display_name": "base",
   "language": "python",
   "name": "python3"
  },
  "language_info": {
   "codemirror_mode": {
    "name": "ipython",
    "version": 3
   },
   "file_extension": ".py",
   "mimetype": "text/x-python",
   "name": "python",
   "nbconvert_exporter": "python",
   "pygments_lexer": "ipython3",
   "version": "3.11.5"
  }
 },
 "nbformat": 4,
 "nbformat_minor": 2
}
