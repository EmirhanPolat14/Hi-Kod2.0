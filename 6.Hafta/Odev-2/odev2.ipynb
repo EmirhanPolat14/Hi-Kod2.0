{
 "cells": [
  {
   "cell_type": "code",
   "execution_count": 26,
   "id": "69c4b3d3",
   "metadata": {},
   "outputs": [],
   "source": [
    "import numpy as np"
   ]
  },
  {
   "cell_type": "code",
   "execution_count": 27,
   "id": "26b79b23",
   "metadata": {},
   "outputs": [],
   "source": [
    "# İki ve üç boyutlu arrayler oluşturulur. Bu arraylerin boyut, eleman sayısı, satır, sütun bilgilerine ulaşılır. \n",
    "#Arrayler üzerinde indexleme ve dilimleme(slicing) işlemi yapılır. "
   ]
  },
  {
   "cell_type": "code",
   "execution_count": 28,
   "id": "fe706787",
   "metadata": {},
   "outputs": [
    {
     "data": {
      "text/plain": [
       "array([[ 0,  1,  2,  3,  4,  5],\n",
       "       [ 6,  7,  8,  9, 10, 11],\n",
       "       [12, 13, 14, 15, 16, 17],\n",
       "       [18, 19, 20, 21, 22, 23],\n",
       "       [24, 25, 26, 27, 28, 29]])"
      ]
     },
     "execution_count": 28,
     "metadata": {},
     "output_type": "execute_result"
    }
   ],
   "source": [
    "array1 = np.array([[ 0,  1,  2,  3,  4,  5],\n",
    "       [ 6,  7,  8,  9, 10, 11],\n",
    "       [12, 13, 14, 15, 16, 17],\n",
    "       [18, 19, 20, 21, 22, 23],\n",
    "       [24, 25, 26, 27, 28, 29]])\n",
    "array1"
   ]
  },
  {
   "cell_type": "code",
   "execution_count": 29,
   "id": "829f3a20",
   "metadata": {},
   "outputs": [
    {
     "data": {
      "text/plain": [
       "array([[[ 0,  1,  2],\n",
       "        [ 3,  4,  5]],\n",
       "\n",
       "       [[ 6,  7,  8],\n",
       "        [ 9, 10, 11]],\n",
       "\n",
       "       [[12, 13, 14],\n",
       "        [15, 16, 17]],\n",
       "\n",
       "       [[18, 19, 20],\n",
       "        [21, 22, 23]],\n",
       "\n",
       "       [[24, 25, 26],\n",
       "        [27, 28, 29]]])"
      ]
     },
     "execution_count": 29,
     "metadata": {},
     "output_type": "execute_result"
    }
   ],
   "source": [
    "array2 = np.array([[[ 0,  1,  2],\n",
    "        [ 3,  4,  5]],\n",
    "\n",
    "       [[ 6,  7,  8],\n",
    "        [ 9, 10, 11]],\n",
    "\n",
    "       [[12, 13, 14],\n",
    "        [15, 16, 17]],\n",
    "\n",
    "       [[18, 19, 20],\n",
    "        [21, 22, 23]],\n",
    "\n",
    "       [[24, 25, 26],\n",
    "        [27, 28, 29]]])\n",
    "array2"
   ]
  },
  {
   "cell_type": "code",
   "execution_count": 30,
   "id": "98a6b697",
   "metadata": {},
   "outputs": [
    {
     "name": "stdout",
     "output_type": "stream",
     "text": [
      "array1, 2 boyutludur.\n",
      "array2, 3 boyutludur.\n"
     ]
    }
   ],
   "source": [
    "#boyut\n",
    "print(f\"array1, {str(array1.ndim)} boyutludur.\\narray2, {str(array2.ndim)} boyutludur.\")"
   ]
  },
  {
   "cell_type": "code",
   "execution_count": 31,
   "id": "4515355b",
   "metadata": {},
   "outputs": [
    {
     "name": "stdout",
     "output_type": "stream",
     "text": [
      "array1'in 30 tane elemanı vardır.\n",
      "array2'in 30 tane elemanı vardır.\n"
     ]
    }
   ],
   "source": [
    "#eleman sayısı \n",
    "print(f\"array1'in {str(array1.size)} tane elemanı vardır.\\narray2'in {str(array2.size)} tane elemanı vardır.\")"
   ]
  },
  {
   "cell_type": "code",
   "execution_count": 32,
   "id": "840b4bcf",
   "metadata": {},
   "outputs": [
    {
     "name": "stdout",
     "output_type": "stream",
     "text": [
      "array1 5 satır, 6 sütundan oluşur.\n",
      "array2 5 katman, 2 satır ve 3 sütundan oluşur.\n"
     ]
    }
   ],
   "source": [
    "#satır sütun bilgileri\n",
    "print(f\"array1 {str(array1.shape[0])} satır, {str(array1.shape[1])} sütundan oluşur.\")\n",
    "print(f\"array2 {str(array2.shape[0])} katman, {str(array2.shape[1])} satır ve {str(array2.shape[2])} sütundan oluşur.\")"
   ]
  },
  {
   "cell_type": "code",
   "execution_count": 33,
   "id": "a9482885",
   "metadata": {},
   "outputs": [
    {
     "data": {
      "text/plain": [
       "array([[ 0,  1,  2,  3,  4,  5],\n",
       "       [ 6,  7,  8,  9, 10, 11],\n",
       "       [12, 13, 14, 15, 16, 17],\n",
       "       [18, 19, 20, 21, 22, 23],\n",
       "       [24, 25, 26, 27, 28, 29]])"
      ]
     },
     "execution_count": 33,
     "metadata": {},
     "output_type": "execute_result"
    }
   ],
   "source": [
    "#indexleme ve dilimleme(slicing) işlemleri\n",
    "array1"
   ]
  },
  {
   "cell_type": "code",
   "execution_count": 34,
   "id": "ddd0f626",
   "metadata": {},
   "outputs": [],
   "source": [
    "array = [[1,2,3],[4,5,6]]"
   ]
  },
  {
   "cell_type": "code",
   "execution_count": 35,
   "id": "979f7217",
   "metadata": {},
   "outputs": [
    {
     "data": {
      "text/plain": [
       "9"
      ]
     },
     "execution_count": 35,
     "metadata": {},
     "output_type": "execute_result"
    }
   ],
   "source": [
    "array1[1,3]"
   ]
  },
  {
   "cell_type": "code",
   "execution_count": 36,
   "id": "61a3e107",
   "metadata": {},
   "outputs": [
    {
     "data": {
      "text/plain": [
       "array([[ 2,  3,  4],\n",
       "       [ 8,  9, 10],\n",
       "       [14, 15, 16]])"
      ]
     },
     "execution_count": 36,
     "metadata": {},
     "output_type": "execute_result"
    }
   ],
   "source": [
    "array1[:3,2:5]"
   ]
  },
  {
   "cell_type": "code",
   "execution_count": 37,
   "id": "a833df68",
   "metadata": {},
   "outputs": [
    {
     "data": {
      "text/plain": [
       "array([11, 17, 23])"
      ]
     },
     "execution_count": 37,
     "metadata": {},
     "output_type": "execute_result"
    }
   ],
   "source": [
    "array1[1:4,-1]"
   ]
  },
  {
   "cell_type": "code",
   "execution_count": 38,
   "id": "855485a0",
   "metadata": {},
   "outputs": [
    {
     "data": {
      "text/plain": [
       "array([[[ 0,  1,  2],\n",
       "        [ 3,  4,  5]],\n",
       "\n",
       "       [[ 6,  7,  8],\n",
       "        [ 9, 10, 11]],\n",
       "\n",
       "       [[12, 13, 14],\n",
       "        [15, 16, 17]],\n",
       "\n",
       "       [[18, 19, 20],\n",
       "        [21, 22, 23]],\n",
       "\n",
       "       [[24, 25, 26],\n",
       "        [27, 28, 29]]])"
      ]
     },
     "execution_count": 38,
     "metadata": {},
     "output_type": "execute_result"
    }
   ],
   "source": [
    "array2"
   ]
  },
  {
   "cell_type": "code",
   "execution_count": 39,
   "id": "111aa219",
   "metadata": {},
   "outputs": [
    {
     "data": {
      "text/plain": [
       "26"
      ]
     },
     "execution_count": 39,
     "metadata": {},
     "output_type": "execute_result"
    }
   ],
   "source": [
    "array2[4,0,2]"
   ]
  },
  {
   "cell_type": "code",
   "execution_count": 40,
   "id": "3e24aa70",
   "metadata": {},
   "outputs": [
    {
     "data": {
      "text/plain": [
       "15"
      ]
     },
     "execution_count": 40,
     "metadata": {},
     "output_type": "execute_result"
    }
   ],
   "source": [
    "array2[2,1,0]"
   ]
  },
  {
   "cell_type": "code",
   "execution_count": 41,
   "id": "a295a5b4",
   "metadata": {},
   "outputs": [
    {
     "data": {
      "text/plain": [
       "array([[[ 3,  4]],\n",
       "\n",
       "       [[ 9, 10]],\n",
       "\n",
       "       [[15, 16]]])"
      ]
     },
     "execution_count": 41,
     "metadata": {},
     "output_type": "execute_result"
    }
   ],
   "source": [
    "array2[0:3,1:,0:2]"
   ]
  },
  {
   "cell_type": "code",
   "execution_count": null,
   "id": "221bdbb2",
   "metadata": {},
   "outputs": [],
   "source": []
  }
 ],
 "metadata": {
  "kernelspec": {
   "display_name": "Python 3 (ipykernel)",
   "language": "python",
   "name": "python3"
  },
  "language_info": {
   "codemirror_mode": {
    "name": "ipython",
    "version": 3
   },
   "file_extension": ".py",
   "mimetype": "text/x-python",
   "name": "python",
   "nbconvert_exporter": "python",
   "pygments_lexer": "ipython3",
   "version": "3.11.5"
  }
 },
 "nbformat": 4,
 "nbformat_minor": 5
}
